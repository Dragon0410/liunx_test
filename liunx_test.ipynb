{
 "cells": [
  {
   "cell_type": "markdown",
   "id": "c49bab7a-f0d0-4d52-ae1c-2ed04e0327ee",
   "metadata": {},
   "source": [
    "# 1、查找当前目录下所有以.tar 结尾的文件，并移动到指定位置"
   ]
  },
  {
   "cell_type": "markdown",
   "id": "e5447cc1-0d65-48c6-98ca-3ab4bbf78646",
   "metadata": {},
   "source": [
    "```find . -name \"*.tar\" -exec mv {}./backup/;```"
   ]
  },
  {
   "cell_type": "markdown",
   "id": "b353b267-e33d-4829-bea1-29243d1e2e52",
   "metadata": {},
   "source": [
    "注解：find –name 主要用于查找某个文件名字;\n",
    "-exec 、xargs可以用来承接前面的结果，然后将要执行的动作.\n",
    "一般跟find在一起用的很多，find使用我们可以延伸\n",
    "-mtime查找修改时间、\n",
    "-type是指定对象类型（常见包括f代表文件、d代表目录），\n",
    "-size 指定大小"
   ]
  },
  {
   "cell_type": "markdown",
   "id": "07a7033b-8189-4f5f-8805-bc3a51ead449",
   "metadata": {},
   "source": [
    "### 例如经常用到的：查找当前目录30天以前大于100M的LOG文件并删除。"
   ]
  },
  {
   "cell_type": "markdown",
   "id": "0c847afb-ca75-4893-9f32-aef8969a27e2",
   "metadata": {},
   "source": [
    "```\n",
    "find . -name \"*.log\" -mtime +30 typef -size +100M | xargs rm -rf {};\n",
    "```"
   ]
  },
  {
   "cell_type": "markdown",
   "id": "b7d60c33-f0a9-48ca-83f6-c31bdbedc097",
   "metadata": {},
   "source": [
    "### 查找最后创建时间是3天前，后缀是.log的文件，并删除"
   ]
  },
  {
   "cell_type": "markdown",
   "id": "490db4e6-15f9-4052-82f0-24f8f9549800",
   "metadata": {},
   "source": [
    "```\n",
    "find . -mtime +3 -name \"*.log\" | xargs r -rf {};\n",
    "```"
   ]
  },
  {
   "cell_type": "markdown",
   "id": "dfd1ee22-27e7-4e12-b0b5-384f10888c13",
   "metadata": {},
   "source": [
    "### 将目录下大于100k的文件移动到/tmp目录下"
   ]
  },
  {
   "cell_type": "markdown",
   "id": "30889a80-e5c7-4857-84ca-209ed5e1f8cf",
   "metadata": {},
   "source": [
    "```\n",
    "find . -size +100k -exec mv {} /tmp;\n",
    "```"
   ]
  },
  {
   "cell_type": "markdown",
   "id": "78c6dd5c-6cf9-4b8d-92b6-837a5531a9ac",
   "metadata": {},
   "source": [
    "# 2、批量解压当前目录下以.zip 结尾的所有的文件到指定目录"
   ]
  },
  {
   "cell_type": "markdown",
   "id": "40334b34-afbf-4b8c-bc4e-a03c75736545",
   "metadata": {},
   "source": [
    "```\n",
    "for i in `find . -name \"*.zip\" -typef ` \n",
    "do\n",
    "unzip -d $i /data/www/img/\n",
    "done\n",
    "```"
   ]
  },
  {
   "cell_type": "markdown",
   "id": "f536ebe6-4474-4cd7-a2fa-30580943bd8b",
   "metadata": {},
   "source": [
    "# 3、sed 常用命令"
   ]
  },
  {
   "cell_type": "markdown",
   "id": "f48fe539-d64e-4bc0-a642-47607d1b0156",
   "metadata": {},
   "source": [
    "去掉行首的.字符：          sed -i 's/^.//g' test.txt\n",
    "\n",
    "在行首添加一个a字符：      sed 's/^/a/g' test.txt\n",
    "\n",
    "在行尾添加一个a字符:       sed 's/$/a/'  tets.txt\n",
    "\n",
    "移除空白行                 sed '/^$/d' text.txt\n",
    "\n",
    "在特定行后添加一个c字符:   sed '/wuguangke/ac' test.txt\n",
    "\n",
    "在行前加入一个c字符:       sed '/wuguangke/ic' test.txt\n",
    "\n",
    "找到当前行，修改后面的参数 sed -i '/SELINUX/s/enforcing/disabled/' /ect/selinux/config"
   ]
  },
  {
   "cell_type": "markdown",
   "id": "8b8db884-601a-4735-8f5b-d99586f4d6cd",
   "metadata": {},
   "source": [
    "sed -i 's:/tmp:/tmp/abc/:g' test.txt  就是将/tmp/ 改成 tmp/abc"
   ]
  },
  {
   "cell_type": "markdown",
   "id": "f4cd31b9-9896-4b6c-912e-f2cb2110d35a",
   "metadata": {},
   "source": [
    "修改文本中以jk结尾的替换成yz  sed -e 's/jk$/yz/g' b.txt"
   ]
  },
  {
   "cell_type": "markdown",
   "id": "68e58a81-e803-497c-b8a1-a59ae47d626c",
   "metadata": {},
   "source": [
    "# 4、判断某个文件是否存在，不存在则创建，存在则打印信息"
   ]
  },
  {
   "cell_type": "markdown",
   "id": "e7eb6f8f-d29e-426f-b871-324be2a8f6c2",
   "metadata": {},
   "source": [
    "```\n",
    "if [! -d /data/backuo/ ]; then\n",
    "    mkdir -p /data/backup/\n",
    "else\n",
    "    echo \"The Directory alreadyexists, please exit.\"\n",
    "fi\n",
    "```"
   ]
  },
  {
   "cell_type": "markdown",
   "id": "f57ce2a6-ac86-4f76-9a0e-4af969b4087c",
   "metadata": {},
   "source": [
    "# 5、监控Liunx磁盘根分区，如果根分区空间大于等于90%，发送邮件给Linux admin"
   ]
  },
  {
   "cell_type": "markdown",
   "id": "b8aa5e67-d1ec-4242-87a6-7ab7e16f5d1d",
   "metadata": {},
   "source": [
    "### 1、打印根分区大小"
   ]
  },
  {
   "cell_type": "markdown",
   "id": "9d32c0e1-9e0b-413a-9041-707f58dc3da8",
   "metadata": {},
   "source": [
    "```\n",
    "df -h | sed -n '//$/p' | awk '{print$5}' | awk -F '%' '{print $1}'\n",
    "```"
   ]
  },
  {
   "cell_type": "markdown",
   "id": "52f6b268-058b-4214-aa42-fa007a8506df",
   "metadata": {},
   "source": [
    "### 2、判断"
   ]
  },
  {
   "cell_type": "markdown",
   "id": "7eeb3bab-c4af-4802-b76d-bfff1d814e79",
   "metadata": {},
   "source": [
    "```\n",
    "while sleep 5m\n",
    "do\n",
    "    for i in `df -h | sed -n '//$/p' | awk '{print $5}' | sed 's/%//g' `\n",
    "    do\n",
    "        echo $i\n",
    "        if [ $i -ge 90 ]; then\n",
    "            echo \"More than 9-% Linux of disk space, Please Liunx admin Check Linux Disk!\" | email -s \"Warn Liunx / Parts is $i%.\"\n",
    "            33@qq.com\n",
    "        fi\n",
    "    done\n",
    "done\n",
    "```"
   ]
  },
  {
   "cell_type": "markdown",
   "id": "9e4c8b13-5e43-47e3-a7f4-fc90a25f3917",
   "metadata": {},
   "source": [
    "# 6、统计Nginx访问日志，访问量排在前20的IP地址"
   ]
  },
  {
   "cell_type": "markdown",
   "id": "83a2fcaf-7d3f-432d-8728-ec4129f9df77",
   "metadata": {},
   "source": [
    "```\n",
    "cat access.log | awk '{print $1}' | sort | uniq -c | sort -nr | head -20\n",
    "```"
   ]
  },
  {
   "cell_type": "markdown",
   "id": "b65b1ba7-d772-4234-98e7-f16d40c55deb",
   "metadata": {},
   "source": [
    "sort 排序， uniq 检查及删除文本中重复出现的行列"
   ]
  },
  {
   "cell_type": "markdown",
   "id": "2f6a4ce5-5681-493f-842b-243f0a277659",
   "metadata": {},
   "source": [
    "# 7、网络抓包 tcpdump"
   ]
  },
  {
   "cell_type": "markdown",
   "id": "0d136461-d5c6-49cd-b0cd-967f560fc3a8",
   "metadata": {},
   "source": [
    "排除 ip2 80 端口"
   ]
  },
  {
   "cell_type": "markdown",
   "id": "92a75215-0b08-4680-83e4-185fdcee0d22",
   "metadata": {},
   "source": [
    "```\n",
    "tcpdump -nn host ip1 or ! host ip2 and port 80\n",
    "```"
   ]
  },
  {
   "cell_type": "markdown",
   "id": "5ceeda5a-9721-4fdb-a4d7-ad50dfa8795f",
   "metadata": {},
   "source": [
    "# 8、快速清空一个文件"
   ]
  },
  {
   "cell_type": "markdown",
   "id": "f566e0c5-6a21-4fb2-bc0f-68bd411e5b7f",
   "metadata": {},
   "source": [
    "```\n",
    "cat /dev/null > haodao.txt\n",
    "```"
   ]
  },
  {
   "cell_type": "markdown",
   "id": "98bf2911-f846-47d0-bad1-f27759df1d01",
   "metadata": {},
   "source": [
    "# 9、在本机快速生成一个大文件"
   ]
  },
  {
   "cell_type": "markdown",
   "id": "57193995-6a61-49ea-9ceb-26247e42c460",
   "metadata": {},
   "source": [
    "```\n",
    "dd if=/dev/zero of=test.txt bs=1M count=1000\n",
    "```"
   ]
  },
  {
   "cell_type": "markdown",
   "id": "e24096cc-df36-40cb-8eaa-3630fdad42fd",
   "metadata": {},
   "source": [
    "有时候需要在本机生成一个大文件，用于测试磁盘的读写能力，可以借助dd命令生成大文件。上述命令，生成一个文件名为test.txt 大小为 1G 的文件。"
   ]
  },
  {
   "cell_type": "markdown",
   "id": "6896461c-5ca1-4956-960d-df63f801bfbd",
   "metadata": {},
   "source": [
    "# 10、创建大批量相同类型的文件"
   ]
  },
  {
   "cell_type": "markdown",
   "id": "09afd040-d9e0-42b5-bcb3-3cdbe5dc666e",
   "metadata": {},
   "source": [
    "```\n",
    "touch haodao{1..100}.txt\n",
    "```"
   ]
  },
  {
   "cell_type": "markdown",
   "id": "e9dd39b4-9f23-442c-a993-60bcc08d11b7",
   "metadata": {},
   "source": [
    "建名字为haodao1.txt，haodao2.txt到haodao100.txt的批量文件"
   ]
  },
  {
   "cell_type": "markdown",
   "id": "dae16513-0f05-4a6f-814e-dd85be8d9317",
   "metadata": {},
   "source": [
    "# 11、查看2022年6月7日09时这个时间内有多少个IP访问你的tomcat服务器"
   ]
  },
  {
   "cell_type": "markdown",
   "id": "e8328ff0-fde3-49ce-bac3-3e577889afcd",
   "metadata": {},
   "source": [
    "```\n",
    "awk '{print $4,$1}' access.log | grep 7/Jun/2022:09 | awk '{print $2}'| sogrep \"/portal/index.html\" access.log | wc -l\n",
    "```"
   ]
  },
  {
   "cell_type": "markdown",
   "id": "65cb1959-a580-4feb-885f-169b14c5ed11",
   "metadata": {},
   "source": [
    "# 12、查看tomcat服务器中某一个页面资源被访问的次数"
   ]
  },
  {
   "cell_type": "markdown",
   "id": "a1ff108a-5ca5-463b-b80c-aa0fa9fde477",
   "metadata": {},
   "source": [
    "```\n",
    "grep \"/portal/index.html\" access.log | wc -l\n",
    "```"
   ]
  },
  {
   "cell_type": "markdown",
   "id": "e79bbb25-c5ff-4c8b-bdf1-cbf5d140ab1a",
   "metadata": {},
   "source": [
    "# 13、查看某一个IP地址访问了tomcat服务器的哪些页面资源"
   ]
  },
  {
   "cell_type": "markdown",
   "id": "47e0fb5f-3672-4d63-bb5c-e1b758b42272",
   "metadata": {},
   "source": [
    "```\n",
    "grep ^192.168.20.100 access.log| awk '{print $1,$7}\n",
    "```"
   ]
  },
  {
   "cell_type": "markdown",
   "id": "af4f90f7-c6ce-473d-bde1-f87a21eefb01",
   "metadata": {},
   "source": [
    "# 14、过滤出对应各网卡的IP地址信息"
   ]
  },
  {
   "cell_type": "markdown",
   "id": "c82f8758-a3e7-4955-bc4e-1ff417729e16",
   "metadata": {},
   "source": [
    "```\n",
    "ip -o addr |awk '/inet/{print $2, $4}'\n",
    "```"
   ]
  },
  {
   "cell_type": "markdown",
   "id": "c0547eeb-2b83-47fa-81f5-13a512ab85ec",
   "metadata": {},
   "source": [
    "# 15、查看僵尸进程"
   ]
  },
  {
   "cell_type": "markdown",
   "id": "afecff04-d505-44f9-a112-f3f506c93674",
   "metadata": {},
   "source": [
    "```\n",
    "ps -al | gawk '{print $2, $4}' | grep Z\n",
    "```"
   ]
  },
  {
   "cell_type": "markdown",
   "id": "0d612b65-7490-4ae0-8736-237cd133b6fa",
   "metadata": {},
   "source": [
    "# 16、列出系统中的开放端口以及运行在端口上的服务"
   ]
  },
  {
   "cell_type": "markdown",
   "id": "390080f9-6baa-48d3-bedc-1cd8c7b25588",
   "metadata": {},
   "source": [
    "```\n",
    "lsof -i\n",
    "```"
   ]
  },
  {
   "cell_type": "markdown",
   "id": "544f47ef-f557-49ce-a459-642c0038a88c",
   "metadata": {},
   "source": [
    "# 17、向终端中的所有登陆用户发送广播信息"
   ]
  },
  {
   "cell_type": "markdown",
   "id": "5d593a81-0c15-4ed2-9a2e-8240c4f90b26",
   "metadata": {},
   "source": [
    "```\n",
    "cat message.txt | wall\n",
    "```"
   ]
  },
  {
   "cell_type": "markdown",
   "id": "87964526-f78a-4243-b64b-6876ce1c1cca",
   "metadata": {},
   "source": [
    "# 18、将文件分割成多个大小为10kb的文件"
   ]
  },
  {
   "cell_type": "markdown",
   "id": "f2700fda-5ca5-421c-8a0c-6785d7ec152a",
   "metadata": {},
   "source": [
    "```\n",
    "split -b 10k data.txt\n",
    "```"
   ]
  },
  {
   "cell_type": "markdown",
   "id": "8d1508a9-fbe1-4457-8c73-fd539374cd5f",
   "metadata": {},
   "source": [
    "# 19、打印两个文件的交集"
   ]
  },
  {
   "cell_type": "markdown",
   "id": "c5a58738-42f6-4992-b7ae-45afeed0d795",
   "metadata": {},
   "source": [
    "```\n",
    "comm A.txt B.txt -3 | sed 's/^\\t//'\n",
    "```"
   ]
  },
  {
   "cell_type": "markdown",
   "id": "68aef987-1fa2-47f4-b31f-4278cdd9c205",
   "metadata": {},
   "source": [
    "# 20、强制关闭进程名包含 xxx 的所有进程"
   ]
  },
  {
   "cell_type": "markdown",
   "id": "7d4749c3-fd5f-4ee7-8fc6-c39a7966ce19",
   "metadata": {},
   "source": [
    "```\n",
    "ps aux | grep xxx | grep -v grep | awk 'print $2' | xargs kill -9\n",
    "```"
   ]
  },
  {
   "cell_type": "markdown",
   "id": "4b1e8c5c-6860-4d8e-9911-790e96d68f4f",
   "metadata": {},
   "source": [
    "# 21、wc 命令"
   ]
  },
  {
   "cell_type": "markdown",
   "id": "ec49e8f4-8aa5-4f63-80c7-f9f002f8e8de",
   "metadata": {},
   "source": [
    "```\n",
    "wc -l filename # 文件有多少行\n",
    "wc -w filename # 文件有多少word\n",
    "wc -L filename # 文件最长的一行，有多少word\n",
    "wc -c # 统计字节数\n",
    "```"
   ]
  },
  {
   "cell_type": "code",
   "execution_count": null,
   "id": "67396bc2-e016-4407-ab92-3d4cac29a442",
   "metadata": {},
   "outputs": [],
   "source": []
  },
  {
   "cell_type": "code",
   "execution_count": null,
   "id": "e05de4a4-b0e7-47f0-9f89-54dcebd8ede7",
   "metadata": {},
   "outputs": [],
   "source": []
  },
  {
   "cell_type": "code",
   "execution_count": null,
   "id": "6070135d-84df-436e-9bd0-bebe60aff19e",
   "metadata": {},
   "outputs": [],
   "source": []
  },
  {
   "cell_type": "code",
   "execution_count": null,
   "id": "a12b2855-d208-41e3-93a5-b08ae13a9e6a",
   "metadata": {},
   "outputs": [],
   "source": []
  },
  {
   "cell_type": "code",
   "execution_count": null,
   "id": "67e9711c-183f-420e-afc6-c4c4d5138c30",
   "metadata": {},
   "outputs": [],
   "source": []
  }
 ],
 "metadata": {
  "kernelspec": {
   "display_name": "Python 3 (ipykernel)",
   "language": "python",
   "name": "python3"
  },
  "language_info": {
   "codemirror_mode": {
    "name": "ipython",
    "version": 3
   },
   "file_extension": ".py",
   "mimetype": "text/x-python",
   "name": "python",
   "nbconvert_exporter": "python",
   "pygments_lexer": "ipython3",
   "version": "3.8.10"
  }
 },
 "nbformat": 4,
 "nbformat_minor": 5
}
